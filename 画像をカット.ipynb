{
  "nbformat": 4,
  "nbformat_minor": 0,
  "metadata": {
    "colab": {
      "provenance": [],
      "authorship_tag": "ABX9TyMd4ui4CMe7TFnunBlP/kTO",
      "include_colab_link": true
    },
    "kernelspec": {
      "name": "python3",
      "display_name": "Python 3"
    },
    "language_info": {
      "name": "python"
    }
  },
  "cells": [
    {
      "cell_type": "markdown",
      "metadata": {
        "id": "view-in-github",
        "colab_type": "text"
      },
      "source": [
        "<a href=\"https://colab.research.google.com/github/shimiiizu/belt3/blob/main/%E7%94%BB%E5%83%8F%E3%82%92%E3%82%AB%E3%83%83%E3%83%88.ipynb\" target=\"_parent\"><img src=\"https://colab.research.google.com/assets/colab-badge.svg\" alt=\"Open In Colab\"/></a>"
      ]
    },
    {
      "cell_type": "code",
      "execution_count": null,
      "metadata": {
        "id": "JSGIFFRro7Qw"
      },
      "outputs": [],
      "source": [
        "import cv2\n",
        "im = cv2.imread('./No1_10_color.JPG')\n",
        "im_gray = cv2.cvtColor(im,cv2.COLOR_BGR2GRAY)"
      ]
    },
    {
      "cell_type": "code",
      "source": [
        "im_gray.shape"
      ],
      "metadata": {
        "colab": {
          "base_uri": "https://localhost:8080/"
        },
        "id": "3ljkHBeotMuw",
        "outputId": "2a7eb300-bf69-4fff-fd73-7944a06b5e12"
      },
      "execution_count": null,
      "outputs": [
        {
          "output_type": "execute_result",
          "data": {
            "text/plain": [
              "(768, 1024)"
            ]
          },
          "metadata": {},
          "execution_count": 7
        }
      ]
    },
    {
      "cell_type": "code",
      "source": [
        "im_gray"
      ],
      "metadata": {
        "colab": {
          "base_uri": "https://localhost:8080/"
        },
        "id": "O4om9ZBWsJXM",
        "outputId": "7521d323-cd1f-4f6b-e514-877880882282"
      },
      "execution_count": null,
      "outputs": [
        {
          "output_type": "execute_result",
          "data": {
            "text/plain": [
              "array([[156, 156, 155, ..., 158, 162, 165],\n",
              "       [154, 153, 153, ..., 157, 159, 161],\n",
              "       [151, 151, 151, ..., 157, 157, 157],\n",
              "       ...,\n",
              "       [142, 140, 138, ..., 145, 144, 143],\n",
              "       [145, 143, 139, ..., 148, 147, 146],\n",
              "       [149, 146, 141, ..., 150, 150, 148]], dtype=uint8)"
            ]
          },
          "metadata": {},
          "execution_count": 4
        }
      ]
    },
    {
      "cell_type": "code",
      "source": [
        "# img[top : bottom, left : right]   1024/64=16, 768/64=12\n",
        "# サンプル1の切り出し、保存\n",
        "\n",
        "for i in range(12):\n",
        "  for j in range(16):\n",
        "    print(i,j)\n",
        "    im_cut = im_gray[64*i : 64*(i+1), 64*j: 64*(j+1)]\n",
        "    cv2.imwrite(\"im_cut\"+str(i)+\"_\"+str(j)+\".jpg\", im_cut)"
      ],
      "metadata": {
        "colab": {
          "base_uri": "https://localhost:8080/"
        },
        "id": "hbTZn37TsdC2",
        "outputId": "ddf52c09-fdb8-4c9f-bb9a-ee123d8c2da1"
      },
      "execution_count": null,
      "outputs": [
        {
          "output_type": "stream",
          "name": "stdout",
          "text": [
            "0 0\n",
            "0 1\n",
            "0 2\n",
            "0 3\n",
            "0 4\n",
            "0 5\n",
            "0 6\n",
            "0 7\n",
            "0 8\n",
            "0 9\n",
            "0 10\n",
            "0 11\n",
            "0 12\n",
            "0 13\n",
            "0 14\n",
            "0 15\n",
            "1 0\n",
            "1 1\n",
            "1 2\n",
            "1 3\n",
            "1 4\n",
            "1 5\n",
            "1 6\n",
            "1 7\n",
            "1 8\n",
            "1 9\n",
            "1 10\n",
            "1 11\n",
            "1 12\n",
            "1 13\n",
            "1 14\n",
            "1 15\n",
            "2 0\n",
            "2 1\n",
            "2 2\n",
            "2 3\n",
            "2 4\n",
            "2 5\n",
            "2 6\n",
            "2 7\n",
            "2 8\n",
            "2 9\n",
            "2 10\n",
            "2 11\n",
            "2 12\n",
            "2 13\n",
            "2 14\n",
            "2 15\n",
            "3 0\n",
            "3 1\n",
            "3 2\n",
            "3 3\n",
            "3 4\n",
            "3 5\n",
            "3 6\n",
            "3 7\n",
            "3 8\n",
            "3 9\n",
            "3 10\n",
            "3 11\n",
            "3 12\n",
            "3 13\n",
            "3 14\n",
            "3 15\n",
            "4 0\n",
            "4 1\n",
            "4 2\n",
            "4 3\n",
            "4 4\n",
            "4 5\n",
            "4 6\n",
            "4 7\n",
            "4 8\n",
            "4 9\n",
            "4 10\n",
            "4 11\n",
            "4 12\n",
            "4 13\n",
            "4 14\n",
            "4 15\n",
            "5 0\n",
            "5 1\n",
            "5 2\n",
            "5 3\n",
            "5 4\n",
            "5 5\n",
            "5 6\n",
            "5 7\n",
            "5 8\n",
            "5 9\n",
            "5 10\n",
            "5 11\n",
            "5 12\n",
            "5 13\n",
            "5 14\n",
            "5 15\n",
            "6 0\n",
            "6 1\n",
            "6 2\n",
            "6 3\n",
            "6 4\n",
            "6 5\n",
            "6 6\n",
            "6 7\n",
            "6 8\n",
            "6 9\n",
            "6 10\n",
            "6 11\n",
            "6 12\n",
            "6 13\n",
            "6 14\n",
            "6 15\n",
            "7 0\n",
            "7 1\n",
            "7 2\n",
            "7 3\n",
            "7 4\n",
            "7 5\n",
            "7 6\n",
            "7 7\n",
            "7 8\n",
            "7 9\n",
            "7 10\n",
            "7 11\n",
            "7 12\n",
            "7 13\n",
            "7 14\n",
            "7 15\n",
            "8 0\n",
            "8 1\n",
            "8 2\n",
            "8 3\n",
            "8 4\n",
            "8 5\n",
            "8 6\n",
            "8 7\n",
            "8 8\n",
            "8 9\n",
            "8 10\n",
            "8 11\n",
            "8 12\n",
            "8 13\n",
            "8 14\n",
            "8 15\n",
            "9 0\n",
            "9 1\n",
            "9 2\n",
            "9 3\n",
            "9 4\n",
            "9 5\n",
            "9 6\n",
            "9 7\n",
            "9 8\n",
            "9 9\n",
            "9 10\n",
            "9 11\n",
            "9 12\n",
            "9 13\n",
            "9 14\n",
            "9 15\n",
            "10 0\n",
            "10 1\n",
            "10 2\n",
            "10 3\n",
            "10 4\n",
            "10 5\n",
            "10 6\n",
            "10 7\n",
            "10 8\n",
            "10 9\n",
            "10 10\n",
            "10 11\n",
            "10 12\n",
            "10 13\n",
            "10 14\n",
            "10 15\n",
            "11 0\n",
            "11 1\n",
            "11 2\n",
            "11 3\n",
            "11 4\n",
            "11 5\n",
            "11 6\n",
            "11 7\n",
            "11 8\n",
            "11 9\n",
            "11 10\n",
            "11 11\n",
            "11 12\n",
            "11 13\n",
            "11 14\n",
            "11 15\n"
          ]
        }
      ]
    },
    {
      "cell_type": "code",
      "source": [],
      "metadata": {
        "id": "_uop1KILs9TF"
      },
      "execution_count": null,
      "outputs": []
    }
  ]
}